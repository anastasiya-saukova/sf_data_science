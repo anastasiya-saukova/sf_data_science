{
 "cells": [
  {
   "attachments": {},
   "cell_type": "markdown",
   "metadata": {},
   "source": [
    "# Угадай число\n",
    "\n",
    "Нужно написать программу, которая угадывает число за минимальное число попыток.\n",
    "\n",
    "## Условия соревнования\n",
    "- Компьютер загадывает целое число от 1 до 100, и нам его нужно угадать. Под «угадать», подразумевается «написать программу, которая угадывает число».\n",
    "- Алгоритм учитывает информацию о том, больше ли случайное число или меньше нужного нам.\n",
    "- Необходимо добиться того, чтобы программа угадывала число меньше, чем за 20 попыток."
   ]
  },
  {
   "attachments": {},
   "cell_type": "markdown",
   "metadata": {},
   "source": [
    "Импортируем библиотеку, которая нам пригодится для генерации случайных чисел. В следующих темах вы познакомитесь с ней подробнее:"
   ]
  },
  {
   "cell_type": "code",
   "execution_count": 6,
   "metadata": {},
   "outputs": [],
   "source": [
    "import numpy as np"
   ]
  },
  {
   "attachments": {},
   "cell_type": "markdown",
   "metadata": {},
   "source": [
    "Ниже уже даны два простейших подхода к решению этой задачи. Посмотрим на них."
   ]
  },
  {
   "attachments": {},
   "cell_type": "markdown",
   "metadata": {},
   "source": [
    "## Подход 1: Случайное угадывание\n",
    "Простейший способ решения: научить программу случайным образом выбирать число до тех пор, пока оно не будет угадано. Этот способ не дает хорошего результата, однако будет для нас хорошей стартовой точкой."
   ]
  },
  {
   "cell_type": "code",
   "execution_count": 7,
   "metadata": {},
   "outputs": [],
   "source": [
    "def random_predict(number: int = 1) -> int:\n",
    "    \"\"\"Просто угадываем на random, никак не используя информацию о больше или меньше.\n",
    "       Функция принимает загаданное число и возвращает число попыток\n",
    "\n",
    "    Args:\n",
    "        number (int, optional): Загаданное число. Defaults to 1.\n",
    "\n",
    "    Returns:\n",
    "        int: Число попыток\n",
    "    \"\"\"\n",
    "    count = 0\n",
    "\n",
    "    while True:\n",
    "        count += 1\n",
    "        predict_number = np.random.randint(1, 101)  # предполагаемое число\n",
    "        if number == predict_number:\n",
    "            break  # выход из цикла если угадали\n",
    "    \n",
    "    return count"
   ]
  },
  {
   "attachments": {},
   "cell_type": "markdown",
   "metadata": {},
   "source": [
    "## Подход 2: Угадывание с коррекцией\n",
    "\n",
    "Сначала устанавливаем любое случайное число, а потом уменьшаем или увеличиваем его в зависимости от того, больше оно или меньше нужного."
   ]
  },
  {
   "cell_type": "code",
   "execution_count": 8,
   "metadata": {},
   "outputs": [],
   "source": [
    "def game_core_v2(number: int = 1) -> int:\n",
    "    \"\"\"Сначала устанавливаем любое random число, а потом уменьшаем\n",
    "    или увеличиваем его в зависимости от того, больше оно или меньше нужного.\n",
    "       Функция принимает загаданное число и возвращает число попыток\n",
    "       \n",
    "    Args:\n",
    "        number (int, optional): Загаданное число. Defaults to 1.\n",
    "\n",
    "    Returns:\n",
    "        int: Число попыток\n",
    "    \"\"\"\n",
    "    count = 0\n",
    "    predict = np.random.randint(1, 101)\n",
    "    \n",
    "    while number != predict:\n",
    "        count += 1\n",
    "        if number > predict:\n",
    "            predict += 1\n",
    "        elif number < predict:\n",
    "            predict -= 1\n",
    "\n",
    "    return count"
   ]
  },
  {
   "cell_type": "markdown",
   "metadata": {},
   "source": [
    "Посмотрим, как эти программы справляются с задачей.\n",
    "\n",
    "## Функция для оценки\n",
    "\n",
    "Эта функция необходима, чтобы определить, за какое число попыток программа угадывает наше число."
   ]
  },
  {
   "cell_type": "code",
   "execution_count": 9,
   "metadata": {},
   "outputs": [],
   "source": [
    "def score_game(random_predict) -> int:\n",
    "    \"\"\"За какое количество попыток в среднем за 10000 подходов угадывает наш алгоритм\n",
    "\n",
    "    Args:\n",
    "        random_predict ([type]): функция угадывания\n",
    "\n",
    "    Returns:\n",
    "        int: среднее количество попыток\n",
    "    \"\"\"\n",
    "    count_ls = []\n",
    "    #np.random.seed(1)  # фиксируем сид для воспроизводимости\n",
    "    random_array = np.random.randint(1, 101, size=(10000))  # загадали список чисел\n",
    "\n",
    "    for number in random_array:\n",
    "        count_ls.append(random_predict(number))\n",
    "\n",
    "    score = int(np.mean(count_ls))\n",
    "    print(f\"Ваш алгоритм угадывает число в среднем за: {score} попытки\")"
   ]
  },
  {
   "attachments": {},
   "cell_type": "markdown",
   "metadata": {},
   "source": [
    "## Оценка работы алгоритмов\n",
    "\n",
    "Определяем, какой подход лучше."
   ]
  },
  {
   "cell_type": "code",
   "execution_count": 10,
   "metadata": {},
   "outputs": [
    {
     "name": "stdout",
     "output_type": "stream",
     "text": [
      "Run benchmarking for random_predict: Ваш алгоритм угадывает число в среднем за: 99 попытки\n",
      "Run benchmarking for game_core_v2: Ваш алгоритм угадывает число в среднем за: 33 попытки\n"
     ]
    }
   ],
   "source": [
    "#Run benchmarking to score effectiveness of all algorithms\n",
    "print('Run benchmarking for random_predict: ', end='')\n",
    "score_game(random_predict)\n",
    "\n",
    "print('Run benchmarking for game_core_v2: ', end='')\n",
    "score_game(game_core_v2)"
   ]
  },
  {
   "attachments": {},
   "cell_type": "markdown",
   "metadata": {},
   "source": [
    "Как мы видим, две предложенные программы показывают не лучший результат. Теперь вы попробуете решить эту задачу и найти более оптимальный алгоритм.\n",
    "\n",
    "## Подход 3: Ваше решение\n",
    "\n",
    "Напишите функцию, которая принимает на вход загаданное число и возвращает число попыток угадывания."
   ]
  },
  {
   "cell_type": "code",
   "execution_count": null,
   "metadata": {},
   "outputs": [
    {
     "name": "stdout",
     "output_type": "stream",
     "text": [
      "Ваш алгоритм угадывает число в среднем за: 101 попыток\n"
     ]
    },
    {
     "data": {
      "text/plain": [
       "101"
      ]
     },
     "execution_count": 4,
     "metadata": {},
     "output_type": "execute_result"
    }
   ],
   "source": [
    "def game_core_v3(number: int = 1) -> int:\n",
    "    \"\"\"\n",
    "    Args:\n",
    "        number (int, optional): Загаданное число. Defaults to 1.\n",
    "\n",
    "    Returns:\n",
    "        int: Число попыток\n",
    "    \"\"\"\n",
    "    # Ваш код начинается здесь\n",
    "\n",
    "    # Ваш код заканчивается здесь\n",
    "\n",
    "    return count"
   ]
  },
  {
   "attachments": {},
   "cell_type": "markdown",
   "metadata": {},
   "source": [
    "Оценим качество вашего алгоритма:"
   ]
  },
  {
   "cell_type": "code",
   "execution_count": null,
   "metadata": {},
   "outputs": [],
   "source": [
    "print('Run benchmarking for game_core_v3: ', end='')\n",
    "score_game(game_core_v3)"
   ]
  },
  {
   "attachments": {},
   "cell_type": "markdown",
   "metadata": {},
   "source": [
    "Напомним, что для успешного решения задания программа должна угадывать число меньше чем за 20 попыток!"
   ]
  }
 ],
 "metadata": {
  "kernelspec": {
   "display_name": "Python 3",
   "language": "python",
   "name": "python3"
  },
  "language_info": {
   "codemirror_mode": {
    "name": "ipython",
    "version": 3
   },
   "file_extension": ".py",
   "mimetype": "text/x-python",
   "name": "python",
   "nbconvert_exporter": "python",
   "pygments_lexer": "ipython3",
   "version": "3.9.10"
  },
  "orig_nbformat": 4,
  "vscode": {
   "interpreter": {
    "hash": "c25269a4018224bb4e3cb6b79397037e31419b0dedc1b97e47175df2e08dbf7b"
   }
  }
 },
 "nbformat": 4,
 "nbformat_minor": 2
}
